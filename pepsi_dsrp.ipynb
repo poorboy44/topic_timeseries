{
 "metadata": {
  "name": "",
  "signature": "sha256:bb2e942eec3c2f85072af8088c6041bf4240d5685e339b778c6b4fc9db08d661"
 },
 "nbformat": 3,
 "nbformat_minor": 0,
 "worksheets": [
  {
   "cells": [
    {
     "cell_type": "code",
     "collapsed": false,
     "input": [
      "### this rads in a file, vectorizes it and writes to LDAC format for DTM package\n",
      "%matplotlib inline\n",
      "from sklearn.feature_extraction.text import CountVectorizer\n",
      "import pandas as pd\n",
      "import json\n",
      "import os\n",
      "import matplotlib.pyplot as plt\n",
      "import gensim\n",
      "import numpy as np\n",
      "os.chdir('/mnt/snelson/pepsi_dsrp')"
     ],
     "language": "python",
     "metadata": {},
     "outputs": [],
     "prompt_number": 1
    },
    {
     "cell_type": "code",
     "collapsed": false,
     "input": [
      "#vectorizer - tokenize / vectorize first, then sort based on dates\n",
      "vec=CountVectorizer(min_df=100, stop_words='english', ngram_range=(1,2))\n",
      "with open('dtm_body.txt') as f:\n",
      "\tX=vec.fit_transform(f) #returns DTM\n",
      "print(X.shape)\n"
     ],
     "language": "python",
     "metadata": {},
     "outputs": [
      {
       "output_type": "stream",
       "stream": "stdout",
       "text": [
        "(694500, 9551)\n"
       ]
      }
     ],
     "prompt_number": 2
    },
    {
     "cell_type": "code",
     "collapsed": false,
     "input": [
      "#read in tweets and time stamps \n",
      "dt=pd.read_csv('dtm_times.txt', names=['dt'])\n",
      "body=pd.read_csv('dtm_body.txt', names=['body'])\n",
      "print(dt.shape)\n",
      "print(body.shape)"
     ],
     "language": "python",
     "metadata": {},
     "outputs": [
      {
       "output_type": "stream",
       "stream": "stdout",
       "text": [
        "(694500, 1)\n",
        "(694222, 1)\n"
       ]
      }
     ],
     "prompt_number": 3
    },
    {
     "cell_type": "code",
     "collapsed": false,
     "input": [
      "#merge and sort by date\n",
      "dt_body=pd.concat([dt, body], axis=1)\n",
      "dt_body=dt_body.sort(['dt'])\n",
      "dt_body.head()"
     ],
     "language": "python",
     "metadata": {},
     "outputs": [
      {
       "html": [
        "<div style=\"max-height:1000px;max-width:1500px;overflow:auto;\">\n",
        "<table border=\"1\" class=\"dataframe\">\n",
        "  <thead>\n",
        "    <tr style=\"text-align: right;\">\n",
        "      <th></th>\n",
        "      <th>dt</th>\n",
        "      <th>body</th>\n",
        "    </tr>\n",
        "  </thead>\n",
        "  <tbody>\n",
        "    <tr>\n",
        "      <th>689918</th>\n",
        "      <td>2013-02-13</td>\n",
        "      <td>Love Craft is now FREE (down from $1.99) - htt...</td>\n",
        "    </tr>\n",
        "    <tr>\n",
        "      <th>689919</th>\n",
        "      <td>2013-02-13</td>\n",
        "      <td>Love Craft HD is now FREE (down from $1.99) - ...</td>\n",
        "    </tr>\n",
        "    <tr>\n",
        "      <th>689920</th>\n",
        "      <td>2013-02-13</td>\n",
        "      <td>New: Rebecca Cooper, Simple as That http://t.c...</td>\n",
        "    </tr>\n",
        "    <tr>\n",
        "      <th>689921</th>\n",
        "      <td>2013-02-13</td>\n",
        "      <td>Getting my craft on making photo props for New...</td>\n",
        "    </tr>\n",
        "    <tr>\n",
        "      <th>689922</th>\n",
        "      <td>2013-02-13</td>\n",
        "      <td>20 Love Songs We Never Want to Hear Again: Loo...</td>\n",
        "    </tr>\n",
        "  </tbody>\n",
        "</table>\n",
        "</div>"
       ],
       "metadata": {},
       "output_type": "pyout",
       "prompt_number": 4,
       "text": [
        "                dt                                               body\n",
        "689918  2013-02-13  Love Craft is now FREE (down from $1.99) - htt...\n",
        "689919  2013-02-13  Love Craft HD is now FREE (down from $1.99) - ...\n",
        "689920  2013-02-13  New: Rebecca Cooper, Simple as That http://t.c...\n",
        "689921  2013-02-13  Getting my craft on making photo props for New...\n",
        "689922  2013-02-13  20 Love Songs We Never Want to Hear Again: Loo..."
       ]
      }
     ],
     "prompt_number": 4
    },
    {
     "cell_type": "code",
     "collapsed": false,
     "input": [
      "#counts by day\n",
      "dt_body.groupby(['dt']).size().plot()"
     ],
     "language": "python",
     "metadata": {},
     "outputs": [
      {
       "metadata": {},
       "output_type": "pyout",
       "prompt_number": 5,
       "text": [
        "<matplotlib.axes._subplots.AxesSubplot at 0x2b16db10>"
       ]
      },
      {
       "metadata": {},
       "output_type": "display_data",
       "png": "[encoded data removed]",
       "text": [
        "<matplotlib.figure.Figure at 0x58e9dd0>"
       ]
      }
     ],
     "prompt_number": 5
    },
    {
     "cell_type": "code",
     "collapsed": false,
     "input": [
      "#gensim\n",
      "#model = gensim.models.DtmModel('/home/snelson/dtm/dtm/main', my_corpus, my_timeslices, num_topics=20, id2word=dictionary)"
     ],
     "language": "python",
     "metadata": {},
     "outputs": []
    },
    {
     "cell_type": "code",
     "collapsed": false,
     "input": [
      "\n",
      "##export pepsi-mult.dat         \n",
      "indices=np.argsort(dt_body.dt)\n",
      "print(indices.shape)\n",
      "with open('pepsi-mult.dat', 'w') as out:\n",
      "    for i in indices:\n",
      "\t\tnum_terms=int(X[i].indices.shape[0])\n",
      "\t\tterm_counts=\" \".join([str(j)+':1' for j in X[i].indices])\n",
      "\t\tout.write(\"{} {}\\n\".format(num_terms, term_counts))"
     ],
     "language": "python",
     "metadata": {},
     "outputs": []
    },
    {
     "cell_type": "code",
     "collapsed": false,
     "input": [
      "##export pepsi-vocab.dat\n",
      "with open('pepsi-vocab.dat', 'w') as vocab:\n",
      "\tfor i in vec.get_feature_names():\n",
      "\t\tvocab.write('\"{}\"\\n'.format(i))"
     ],
     "language": "python",
     "metadata": {},
     "outputs": []
    },
    {
     "cell_type": "code",
     "collapsed": false,
     "input": [
      "##export pepsi-seq.dat\n",
      "with open('pepsi-seq.dat', 'w') as time:\n",
      "    time.write(\"{}\".format(int(dt_body.groupby(['dt']).size().shape[0])))\n",
      "    for i in dt_body.groupby(['dt']).size():\n",
      "        time.write(\"{}\\n\".format(i))\n",
      "print(\"done writing\")"
     ],
     "language": "python",
     "metadata": {},
     "outputs": []
    },
    {
     "cell_type": "code",
     "collapsed": false,
     "input": [
      "## PCA + kmeans\n",
      "from sklearn.feature_extraction.text import TfidfVectorizer\n",
      "from sklearn.decomposition import TruncatedSVD\n",
      "from sklearn.cluster import KMeans, MiniBatchKMeans\n",
      "from time import time\n",
      "vectorizer = TfidfVectorizer(min_df=100, stop_words='english', use_idf=True)\n",
      "with open('dtm_body.txt') as f:\n",
      "    X = vectorizer.fit_transform(f)\n",
      "print(X.shape)"
     ],
     "language": "python",
     "metadata": {},
     "outputs": []
    },
    {
     "cell_type": "code",
     "collapsed": false,
     "input": [
      "from sklearn.pipeline import make_pipeline\n",
      "from sklearn.preprocessing import Normalizer\n",
      "svd = TruncatedSVD(100)\n",
      "lsa = make_pipeline(svd, Normalizer(copy=False))\n",
      "X_svd = lsa.fit_transform(X)\n",
      "km = KMeans(n_clusters=5, init='k-means++', max_iter=100, n_init=1,\n",
      "                verbose=True)\n",
      "print(\"Clustering sparse data with %s\" % km)\n",
      "t0 = time()\n",
      "km.fit(X_svd)\n",
      "print(\"done in %0.3fs\" % (time() - t0))\n",
      "print()"
     ],
     "language": "python",
     "metadata": {},
     "outputs": []
    },
    {
     "cell_type": "code",
     "collapsed": false,
     "input": [
      "#predict\n",
      "pred=km.predict(X_svd)\n",
      "pred_df=pd.DataFrame(pred)\n",
      "pred_df.columns=['pred_cluster']\n",
      "pred_dt_df = pd.concat([dt, pred_df], axis=1)\n",
      "pred_dt_df=pred_dt_df.sort(['dt'])"
     ],
     "language": "python",
     "metadata": {},
     "outputs": []
    },
    {
     "cell_type": "code",
     "collapsed": false,
     "input": [
      "print(pred_dt_df.shape)\n",
      "print(pred_dt_df.head())"
     ],
     "language": "python",
     "metadata": {},
     "outputs": []
    },
    {
     "cell_type": "code",
     "collapsed": false,
     "input": [
      "#count of records by dt and cluster\n",
      "grouped=pred_dt_df.groupby(['dt', 'pred_cluster']).size().reset_index()\n",
      "grouped.columns=['dt', 'pred_cluster', 'count']\n",
      "#print(grouped.head(n=20))\n",
      "grouped_t=grouped.pivot(index='dt', columns='pred_cluster', values='count')\n",
      "#print(grouped_t.head(n=20))\n",
      "#print(grouped_t.columns)\n",
      "#print(grouped_t.index)"
     ],
     "language": "python",
     "metadata": {},
     "outputs": []
    },
    {
     "cell_type": "code",
     "collapsed": false,
     "input": [
      "#plot all clusters\n",
      "grouped_t.plot()"
     ],
     "language": "python",
     "metadata": {},
     "outputs": []
    },
    {
     "cell_type": "code",
     "collapsed": false,
     "input": [
      "#get top 10 clusters\n",
      "grouped_by_cluster=pred_dt_df.groupby(['pred_cluster']).size().reset_index()\n",
      "grouped_by_cluster.columns=['pred_cluster', 'count']\n",
      "grouped_by_cluster=grouped_by_cluster.sort(['count'], ascending=False)\n",
      "print(grouped_by_cluster.head(n=10))\n",
      "top_10_clusters=[i for i in grouped_by_cluster.head(n=10).pred_cluster.values]"
     ],
     "language": "python",
     "metadata": {},
     "outputs": []
    },
    {
     "cell_type": "code",
     "collapsed": false,
     "input": [
      "#plot top 10 clusters\n",
      "print(top_10_clusters)\n",
      "grouped_t[top_10_clusters].plot()"
     ],
     "language": "python",
     "metadata": {},
     "outputs": []
    },
    {
     "cell_type": "code",
     "collapsed": false,
     "input": [
      "## KM was run on the SVD (X). Get word loadings by daisy chaining back into words\n",
      "print(km.cluster_centers_.shape)\n",
      "print(X_svd.shape)\n",
      "print(svd.components_.shape )\n",
      "#matrix multiply \n",
      "word_loadings=np.dot(km.cluster_centers_, svd.components_)\n",
      "print(word_loadings.shape)\n",
      "vocab=vectorizer.get_feature_names()\n",
      "for k in range(0,5):\n",
      "    #word loadings = cluster_centers * eigenvectors \n",
      "    indices=[i for i in np.argsort(word_loadings[k,:])[::-1]]    \n",
      "    sorted_vocab=[vocab[i] for i in indices]\n",
      "    print(\"Top words for cluster {}:\\n{}\\n\".format(k, sorted_vocab[:50]))\n",
      "#print(np.sort(word_loadings[0,:])[::-1][:50])\n",
      "#print(np.sort(word_loadings[0,:])[:50])\n",
      "#plt.plot(np.sort(word_loadings[0,:])[::-1][:50])\n",
      "#plt.plot(np.sort(word_loadings[0,:])[:50])\n"
     ],
     "language": "python",
     "metadata": {},
     "outputs": []
    },
    {
     "cell_type": "code",
     "collapsed": false,
     "input": [
      "## find top 10 tweets per cluster\n",
      "#score each tweet by computing L1 norm of distance to cluster center\n",
      "res=[np.absolute(X_svd - km.cluster_centers_[i, :]).sum(axis=1) for i in range(0,5)]\n",
      "res1=np.vstack(res)\n",
      "print(res1.shape)"
     ],
     "language": "python",
     "metadata": {},
     "outputs": []
    },
    {
     "cell_type": "code",
     "collapsed": false,
     "input": [
      "max_vals=np.argmax(res1, axis=1)\n",
      "print(max_vals.shape)\n",
      "print(max_vals)"
     ],
     "language": "python",
     "metadata": {},
     "outputs": []
    },
    {
     "cell_type": "code",
     "collapsed": false,
     "input": [
      "tweets=[]\n",
      "with open('dtm_body.txt') as f:\n",
      "    for line in f:\n",
      "        tweets.append(line.strip())\n",
      "print(len(tweets))"
     ],
     "language": "python",
     "metadata": {},
     "outputs": []
    },
    {
     "cell_type": "code",
     "collapsed": false,
     "input": [
      "[\"cluster {}:{}\".format(i, tweets[j]) for i,j in enumerate(max_vals)]"
     ],
     "language": "python",
     "metadata": {},
     "outputs": []
    },
    {
     "cell_type": "code",
     "collapsed": false,
     "input": [
      "#get top 10 tweets per cluster\n",
      "#sort ascending because small norm = better\n",
      "max_indices=np.argsort(res1)[:,:50]\n",
      "for e,j in enumerate(max_indices):\n",
      "    for i in j:\n",
      "        print(\"cluster {}:{}\".format(e,tweets[i]))"
     ],
     "language": "python",
     "metadata": {},
     "outputs": []
    },
    {
     "cell_type": "code",
     "collapsed": false,
     "input": [
      "##to do:\n",
      "## 1) exclude @mentions with craft in them\n",
      "## 2) top 10 tweets per cluster by day\n",
      "## "
     ],
     "language": "python",
     "metadata": {},
     "outputs": []
    }
   ],
   "metadata": {}
  }
 ]
}